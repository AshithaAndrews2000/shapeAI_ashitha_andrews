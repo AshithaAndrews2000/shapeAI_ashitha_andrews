{
  "nbformat": 4,
  "nbformat_minor": 0,
  "metadata": {
    "colab": {
      "name": "ashithakandrews.ipynb",
      "provenance": []
    },
    "kernelspec": {
      "name": "python3",
      "display_name": "Python 3"
    },
    "language_info": {
      "name": "python"
    }
  },
  "cells": [
    {
      "cell_type": "code",
      "metadata": {
        "id": "HrUX88BItFsu"
      },
      "source": [
        "# import data set\n",
        "from keras.datasets import mnist\n",
        "data = mnist.load_data()"
      ],
      "execution_count": null,
      "outputs": []
    },
    {
      "cell_type": "code",
      "metadata": {
        "id": "ojzfX4isvVBA"
      },
      "source": [
        "((x_train,y_train),(x_test,y_test)) = data"
      ],
      "execution_count": null,
      "outputs": []
    },
    {
      "cell_type": "code",
      "metadata": {
        "id": "-LNbe52oxtgq"
      },
      "source": [
        "#shape of training data\n",
        "x_train[0].shape"
      ],
      "execution_count": null,
      "outputs": []
    },
    {
      "cell_type": "code",
      "metadata": {
        "id": "0ZX84HBSv_yv"
      },
      "source": [
        "#reshape training data\n",
        "x_train=x_train.reshape((x_train.shape[0],28*28)).astype('float32')\n",
        "x_test=x_test.reshape((x_test.shape[0],28*28)).astype('float32')\n"
      ],
      "execution_count": null,
      "outputs": []
    },
    {
      "cell_type": "code",
      "metadata": {
        "id": "DELG_MGbwfGI"
      },
      "source": [
        "# normalizing values from 0-255 to 0-1\n",
        "x_train= x_train /255\n",
        "x_test= x_test/255"
      ],
      "execution_count": null,
      "outputs": []
    },
    {
      "cell_type": "code",
      "metadata": {
        "id": "K5tOcI70wuvU"
      },
      "source": [
        "from keras.utils import np_utils\n",
        "\n",
        "print(y_test.shape)\n",
        "\n",
        "y_train = np_utils.to_categorical(y_train)\n",
        "y_test = np_utils.to_categorical(y_test)\n",
        "\n",
        "num_classes = y_test.shape[1]\n",
        "print(num_classes)\n"
      ],
      "execution_count": null,
      "outputs": []
    },
    {
      "cell_type": "code",
      "metadata": {
        "id": "uc5Knteb0VMg"
      },
      "source": [
        "from keras.model import Sequential \n",
        "from keras.layers import Dense\n",
        "from keras.layers import Dropout"
      ],
      "execution_count": null,
      "outputs": []
    },
    {
      "cell_type": "code",
      "metadata": {
        "id": "3oWRalil1FaA"
      },
      "source": [
        "\n",
        "moodel = Sequential()\n",
        "\n",
        " \n",
        "model.add(Dense(32,input_dim=28*28,activation='relu'))\n",
        "\n",
        "\n",
        "model.add(Dense(64,activation='relu'))\n",
        "\n",
        "\n",
        "model.add(Dense(10,activation='softmax'))\n"
      ],
      "execution_count": null,
      "outputs": []
    },
    {
      "cell_type": "code",
      "metadata": {
        "id": "tetnYaG11FWj"
      },
      "source": [
        "# compile model\n",
        "model.compile(loss='categorical_crossentropy',optimizer='adam',metrics=['accuracy'])"
      ],
      "execution_count": null,
      "outputs": []
    },
    {
      "cell_type": "code",
      "metadata": {
        "id": "i5d0rZ9U3Zip"
      },
      "source": [
        "# print model summary \n",
        "model.summary()"
      ],
      "execution_count": null,
      "outputs": []
    },
    {
      "cell_type": "code",
      "metadata": {
        "id": "KC4dkd6k3shy"
      },
      "source": [
        "# train model \n",
        "model.fit(x_train,y_train,validation_split=0.2 , epochs=10 , batch_size=100)"
      ],
      "execution_count": null,
      "outputs": []
    },
    {
      "cell_type": "code",
      "metadata": {
        "id": "klx858U54KW-"
      },
      "source": [
        "scores = model.evaluate(x_test,y_test)\n",
        "print(scores)   #returns loss and accuracy"
      ],
      "execution_count": null,
      "outputs": []
    },
    {
      "cell_type": "code",
      "metadata": {
        "id": "9mGralih4lvA"
      },
      "source": [
        "predictions = model.predict(x_test)\n",
        " # convert prediction into labels\n",
        " label=[]\n",
        " for pred in predictions:\n",
        "   max_val=max(pred)"
      ],
      "execution_count": null,
      "outputs": []
    }
  ]
}